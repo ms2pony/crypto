{
 "cells": [
  {
   "cell_type": "code",
   "execution_count": 1,
   "metadata": {},
   "outputs": [
    {
     "data": {
      "text/plain": [
       "(1, 1, -4)"
      ]
     },
     "execution_count": 1,
     "metadata": {},
     "output_type": "execute_result"
    }
   ],
   "source": [
    "vector([1,1,-4])"
   ]
  },
  {
   "cell_type": "markdown",
   "metadata": {},
   "source": [
    "## sm2广义梅森素数乘法约减\n",
    "相关代码如下\n",
    "### 几种大数的表示形式\n",
    "对于$p=0xfffffffeffffffffffffffffffffffffffffffff00000000ffffffffffffffff\\\\=2^{256}-2^{224}-2^{96}+2^{64}-1$\n",
    "\n",
    "本内容定义2个表示形式，\n",
    "\n",
    "1. 本文的大数形式定义如下：\n",
    "\n",
    "    `[256, 224, 96, 64, 1]`, 等价$p=2^{256}-2^{224}-2^{96}+2^{64}-1$，从高位到低位\n",
    "    \n",
    "2. 向量形式：\n",
    "    以$2^{26}$为一个单位划分，即$2^{26}$进制\n",
    "\n",
    "    `[22, 16, 0, 0, 0, 0, 18, 13, 0, 1]`，从高位到低位, 等价$p=2^{256}-2^{224}-2^{96}+2^{64}-1$\n",
    "    \n",
    "### 两种形式之间的转化\n",
    "定义函数`bn2vec`，用于两种形式之间的转化\n",
    "\n",
    "### 约减函数\n",
    "定义伪梅森素数约减函数，输入数的形式为向量形式"
   ]
  },
  {
   "cell_type": "code",
   "execution_count": 2,
   "metadata": {},
   "outputs": [
    {
     "name": "stdout",
     "output_type": "stream",
     "text": [
      "[22, 16, 0, 0, 0, 0, 18, 12, 0, 1] [1, 0, 0, 0, 0, 0, 0, 0, 0, 0, 0]\n"
     ]
    }
   ],
   "source": [
    "def bn2vec(bn:list):\n",
    "    \"\"\"\n",
    "    return: 向量形式\n",
    "    \"\"\"\n",
    "    # 算出bn有几位(2^26进制)\n",
    "    len=bn[0]//26+1\n",
    "    vec=[0 for i in range(len)]\n",
    "    if(not mod(bn[0],26)):\n",
    "        vec[-1]=1\n",
    "    for bn_e in bn:\n",
    "        vec_e=mod(bn_e,26)\n",
    "        vecIndex=bn_e//26\n",
    "        if(vec_e):\n",
    "            vec[vecIndex]=vec_e\n",
    "    vec.reverse()\n",
    "    return vec\n",
    "\n",
    "# 测试函数 bn2vec`\n",
    "p1=[256, 224, 96, 64, 1]\n",
    "p2=[260]\n",
    "print(bn2vec(p1),bn2vec(p2))"
   ]
  },
  {
   "cell_type": "code",
   "execution_count": 3,
   "metadata": {},
   "outputs": [
    {
     "data": {
      "text/plain": [
       "(1, 0, 0, 0, 0, 0, 0, 0, 0, 0, 0)"
      ]
     },
     "execution_count": 3,
     "metadata": {},
     "output_type": "execute_result"
    }
   ],
   "source": [
    "def leftShift(vec, count):\n",
    "    vecList=vec.list()[count:]+[0 for i in range(count)]\n",
    "    return vector(vecList)\n",
    "\n",
    "def mersenRed(bn,module):\n",
    "    bnTopIdenx=bn.list().index(0)\n",
    "    # bn的最高位非0元素的位置bnTopIdenx必须小于等于stdIndex\n",
    "    stdIndex=module.list().index(0)\n",
    "\n",
    "    # stdIndex>=bnTopIdenx时，表明约减完成，退出循环\n",
    "    while stdIndex<bnTopIdenx:\n",
    "        # 减数 subtractor，向量形式\n",
    "        subtractor=leftShift(module,bnTopIdenx-stdIndex)\n",
    "        bn=bn-subtractor\n",
    "        bnTopIdenx=bn.list().index(0)\n",
    "    return bn\n",
    "\n",
    "# 测试函数mersenRed\n",
    "z10Vec=vector([1, 0, 0, 0, 0, 0, 0, 0, 0, 0, 0])\n",
    "p_sm2=vector([22, 16, 0, 0, 0, 0, 18, 12, 0, 1])\n",
    "mersenRed(z10Vec,p_sm2)\n"
   ]
  },
  {
   "cell_type": "code",
   "execution_count": 4,
   "metadata": {},
   "outputs": [
    {
     "name": "stdout",
     "output_type": "stream",
     "text": [
      "(22*z10, 16*z10, 0, 0, 0, 0, 18*z10, 12*z10, 0, z10)\n"
     ]
    },
    {
     "ename": "TypeError",
     "evalue": "unable to convert z10 to an integer",
     "output_type": "error",
     "traceback": [
      "\u001b[0;31m---------------------------------------------------------------------------\u001b[0m",
      "\u001b[0;31mTypeError\u001b[0m                                 Traceback (most recent call last)",
      "\u001b[0;32m/usr/lib/python3/dist-packages/sage/symbolic/expression.pyx\u001b[0m in \u001b[0;36msage.symbolic.expression.Expression._integer_ (build/cythonized/sage/symbolic/expression.cpp:8632)\u001b[0;34m()\u001b[0m\n\u001b[1;32m   1098\u001b[0m         \u001b[0;32mtry\u001b[0m\u001b[0;34m:\u001b[0m\u001b[0;34m\u001b[0m\u001b[0;34m\u001b[0m\u001b[0m\n\u001b[0;32m-> 1099\u001b[0;31m             \u001b[0mn\u001b[0m \u001b[0;34m=\u001b[0m \u001b[0mself\u001b[0m\u001b[0;34m.\u001b[0m\u001b[0mpyobject\u001b[0m\u001b[0;34m(\u001b[0m\u001b[0;34m)\u001b[0m\u001b[0;34m\u001b[0m\u001b[0;34m\u001b[0m\u001b[0m\n\u001b[0m\u001b[1;32m   1100\u001b[0m         \u001b[0;32mexcept\u001b[0m \u001b[0mTypeError\u001b[0m\u001b[0;34m:\u001b[0m\u001b[0;34m\u001b[0m\u001b[0;34m\u001b[0m\u001b[0m\n",
      "\u001b[0;32m/usr/lib/python3/dist-packages/sage/symbolic/expression.pyx\u001b[0m in \u001b[0;36msage.symbolic.expression.Expression.pyobject (build/cythonized/sage/symbolic/expression.cpp:6030)\u001b[0;34m()\u001b[0m\n\u001b[1;32m    428\u001b[0m         \u001b[0;32mif\u001b[0m \u001b[0;32mnot\u001b[0m \u001b[0mis_a_numeric\u001b[0m\u001b[0;34m(\u001b[0m\u001b[0mself\u001b[0m\u001b[0;34m.\u001b[0m\u001b[0m_gobj\u001b[0m\u001b[0;34m)\u001b[0m\u001b[0;34m:\u001b[0m\u001b[0;34m\u001b[0m\u001b[0;34m\u001b[0m\u001b[0m\n\u001b[0;32m--> 429\u001b[0;31m             \u001b[0;32mraise\u001b[0m \u001b[0mTypeError\u001b[0m\u001b[0;34m(\u001b[0m\u001b[0;34m\"self must be a numeric expression\"\u001b[0m\u001b[0;34m)\u001b[0m\u001b[0;34m\u001b[0m\u001b[0;34m\u001b[0m\u001b[0m\n\u001b[0m\u001b[1;32m    430\u001b[0m         \u001b[0;32mreturn\u001b[0m \u001b[0mpy_object_from_numeric\u001b[0m\u001b[0;34m(\u001b[0m\u001b[0mself\u001b[0m\u001b[0;34m.\u001b[0m\u001b[0m_gobj\u001b[0m\u001b[0;34m)\u001b[0m\u001b[0;34m\u001b[0m\u001b[0;34m\u001b[0m\u001b[0m\n",
      "\u001b[0;31mTypeError\u001b[0m: self must be a numeric expression",
      "\nDuring handling of the above exception, another exception occurred:\n",
      "\u001b[0;31mTypeError\u001b[0m                                 Traceback (most recent call last)",
      "\u001b[0;32m<ipython-input-4-282cd8563d7c>\u001b[0m in \u001b[0;36m<module>\u001b[0;34m\u001b[0m\n\u001b[1;32m      9\u001b[0m \u001b[0mvar\u001b[0m\u001b[0;34m(\u001b[0m\u001b[0;34m'z10'\u001b[0m\u001b[0;34m)\u001b[0m\u001b[0;34m\u001b[0m\u001b[0;34m\u001b[0m\u001b[0m\n\u001b[1;32m     10\u001b[0m \u001b[0mprint\u001b[0m\u001b[0;34m(\u001b[0m\u001b[0mp_sm2\u001b[0m\u001b[0;34m*\u001b[0m\u001b[0mz10\u001b[0m\u001b[0;34m)\u001b[0m\u001b[0;34m\u001b[0m\u001b[0;34m\u001b[0m\u001b[0m\n\u001b[0;32m---> 11\u001b[0;31m \u001b[0mprint\u001b[0m\u001b[0;34m(\u001b[0m\u001b[0mz10_vec\u001b[0m\u001b[0;34m*\u001b[0m\u001b[0mz10\u001b[0m\u001b[0;34m)\u001b[0m\u001b[0;34m\u001b[0m\u001b[0;34m\u001b[0m\u001b[0m\n\u001b[0m",
      "\u001b[0;32m/usr/lib/python3/dist-packages/sage/symbolic/expression.pyx\u001b[0m in \u001b[0;36msage.symbolic.expression.Expression.__index__ (build/cythonized/sage/symbolic/expression.cpp:33469)\u001b[0;34m()\u001b[0m\n\u001b[1;32m   5798\u001b[0m             \u001b[0;34m[\u001b[0m\u001b[0;36m0\u001b[0m\u001b[0;34m,\u001b[0m \u001b[0;36m1\u001b[0m\u001b[0;34m,\u001b[0m \u001b[0;36m2\u001b[0m\u001b[0;34m,\u001b[0m \u001b[0;36m3\u001b[0m\u001b[0;34m,\u001b[0m \u001b[0;36m4\u001b[0m\u001b[0;34m]\u001b[0m\u001b[0;34m\u001b[0m\u001b[0;34m\u001b[0m\u001b[0m\n\u001b[1;32m   5799\u001b[0m         \"\"\"\n\u001b[0;32m-> 5800\u001b[0;31m         \u001b[0;32mreturn\u001b[0m \u001b[0mint\u001b[0m\u001b[0;34m(\u001b[0m\u001b[0mself\u001b[0m\u001b[0;34m.\u001b[0m\u001b[0m_integer_\u001b[0m\u001b[0;34m(\u001b[0m\u001b[0;34m)\u001b[0m\u001b[0;34m)\u001b[0m\u001b[0;34m\u001b[0m\u001b[0;34m\u001b[0m\u001b[0m\n\u001b[0m\u001b[1;32m   5801\u001b[0m \u001b[0;34m\u001b[0m\u001b[0m\n\u001b[1;32m   5802\u001b[0m     \u001b[0;32mdef\u001b[0m \u001b[0miterator\u001b[0m\u001b[0;34m(\u001b[0m\u001b[0mself\u001b[0m\u001b[0;34m)\u001b[0m\u001b[0;34m:\u001b[0m\u001b[0;34m\u001b[0m\u001b[0;34m\u001b[0m\u001b[0m\n",
      "\u001b[0;32m/usr/lib/python3/dist-packages/sage/symbolic/expression.pyx\u001b[0m in \u001b[0;36msage.symbolic.expression.Expression._integer_ (build/cythonized/sage/symbolic/expression.cpp:8681)\u001b[0;34m()\u001b[0m\n\u001b[1;32m   1099\u001b[0m             \u001b[0mn\u001b[0m \u001b[0;34m=\u001b[0m \u001b[0mself\u001b[0m\u001b[0;34m.\u001b[0m\u001b[0mpyobject\u001b[0m\u001b[0;34m(\u001b[0m\u001b[0;34m)\u001b[0m\u001b[0;34m\u001b[0m\u001b[0;34m\u001b[0m\u001b[0m\n\u001b[1;32m   1100\u001b[0m         \u001b[0;32mexcept\u001b[0m \u001b[0mTypeError\u001b[0m\u001b[0;34m:\u001b[0m\u001b[0;34m\u001b[0m\u001b[0;34m\u001b[0m\u001b[0m\n\u001b[0;32m-> 1101\u001b[0;31m             \u001b[0;32mraise\u001b[0m \u001b[0mTypeError\u001b[0m\u001b[0;34m(\u001b[0m\u001b[0;34m\"unable to convert %r to an integer\"\u001b[0m \u001b[0;34m%\u001b[0m \u001b[0mself\u001b[0m\u001b[0;34m)\u001b[0m\u001b[0;34m\u001b[0m\u001b[0;34m\u001b[0m\u001b[0m\n\u001b[0m\u001b[1;32m   1102\u001b[0m         \u001b[0;32mif\u001b[0m \u001b[0misinstance\u001b[0m\u001b[0;34m(\u001b[0m\u001b[0mn\u001b[0m\u001b[0;34m,\u001b[0m \u001b[0msage\u001b[0m\u001b[0;34m.\u001b[0m\u001b[0mrings\u001b[0m\u001b[0;34m.\u001b[0m\u001b[0minteger\u001b[0m\u001b[0;34m.\u001b[0m\u001b[0mInteger\u001b[0m\u001b[0;34m)\u001b[0m\u001b[0;34m:\u001b[0m\u001b[0;34m\u001b[0m\u001b[0;34m\u001b[0m\u001b[0m\n\u001b[1;32m   1103\u001b[0m             \u001b[0;32mreturn\u001b[0m \u001b[0mn\u001b[0m\u001b[0;34m\u001b[0m\u001b[0;34m\u001b[0m\u001b[0m\n",
      "\u001b[0;31mTypeError\u001b[0m: unable to convert z10 to an integer"
     ]
    }
   ],
   "source": [
    "# 10个分量的向量表示10个limbs的大数, 20个分量则是20个limbs的大数\n",
    "# 每一个分量的权重分别为：\n",
    "# [2^234, 2^208, 2^182, 2^156, 2^130, 2^104, 2^78, 2^52, 2^26, 1]\n",
    "p_sm2=vector([22, 16, 0, 0, 0, 0, 18, 12, 0, 1])\n",
    "\n",
    "z10_bn=[260]\n",
    "z10_vec=bn2vec(z10_bn)\n",
    "\n",
    "var('z10')\n",
    "print(p_sm2*z10)\n",
    "print(z10_vec*z10)\n"
   ]
  },
  {
   "cell_type": "code",
   "execution_count": null,
   "metadata": {},
   "outputs": [],
   "source": [
    "v1=vector([22, 16, 0, 0, 0, 0, 18, 12, 0, 1]);v1"
   ]
  },
  {
   "cell_type": "code",
   "execution_count": null,
   "metadata": {},
   "outputs": [],
   "source": [
    "v2=vector([1,2,3])\n",
    "matrix2= v2.column()*v2.row();matrix2\n",
    "print(matrix2[0])"
   ]
  },
  {
   "cell_type": "code",
   "execution_count": null,
   "metadata": {},
   "outputs": [],
   "source": [
    "bn=2**260\n",
    "len(bin(bn))"
   ]
  },
  {
   "cell_type": "code",
   "execution_count": null,
   "metadata": {},
   "outputs": [],
   "source": [
    "a=0b10;a"
   ]
  },
  {
   "cell_type": "code",
   "execution_count": null,
   "metadata": {},
   "outputs": [],
   "source": [
    "a=0b1101110111;bin(a)"
   ]
  },
  {
   "cell_type": "code",
   "execution_count": null,
   "metadata": {},
   "outputs": [],
   "source": [
    "a_str=bin(a)[2:];a_str[-2:]\n",
    "# a_strRev=bin(a)[2:][::-1];a_strRev\n",
    "# a_rev.index('0')"
   ]
  },
  {
   "cell_type": "code",
   "execution_count": 8,
   "metadata": {},
   "outputs": [
    {
     "data": {
      "text/latex": [
       "$2^{256}-2^{225}+2^{224}-2^{96}+2^{64}-1$"
      ],
      "text/plain": [
       "<IPython.core.display.Latex object>"
      ]
     },
     "execution_count": 8,
     "metadata": {},
     "output_type": "execute_result"
    }
   ],
   "source": [
    "def convert(a_str):\n",
    "    a_strOutput=\"\"\n",
    "    \n",
    "    while a_str:\n",
    "        a_len=len(a_str)\n",
    "        a_0index=a_str.find('0')\n",
    "        if a_0index>1 or a_0index==-1:\n",
    "            a_strOutput+=\"+2^{{{}}}-2^{{{}}}\".format(a_len,a_len-a_0index if a_0index>1 else 0)\n",
    "        elif a_0index==1:\n",
    "            a_strOutput+=\"+2^{{{}}}\".format(a_len-1)\n",
    "\n",
    "        a_str=None if a_0index==-1 else a_str[a_0index+1:]\n",
    "\n",
    "    return a_strOutput[1:].replace('2^{0}','1')\n",
    "\n",
    "def convertTest():\n",
    "    # 测试函数convert\n",
    "    p_sm2=0xfffffffeffffffffffffffffffffffffffffffff00000000ffffffffffffffff\n",
    "    p_sm2Str=bin(p_sm2)[2:]\n",
    "    return convert(p_sm2Str)\n",
    "\n",
    "\n",
    "from IPython.display import Latex\n",
    "output=Latex(\"$\"+convertTest()+\"$\");output"
   ]
  },
  {
   "cell_type": "code",
   "execution_count": null,
   "metadata": {},
   "outputs": [],
   "source": []
  },
  {
   "cell_type": "code",
   "execution_count": null,
   "metadata": {},
   "outputs": [],
   "source": []
  }
 ],
 "metadata": {
  "kernelspec": {
   "display_name": "SageMath 9.0",
   "language": "python",
   "name": "sagemath"
  },
  "language_info": {
   "codemirror_mode": {
    "name": "ipython",
    "version": 3
   },
   "file_extension": ".py",
   "mimetype": "text/x-python",
   "name": "python",
   "nbconvert_exporter": "python",
   "pygments_lexer": "ipython3",
   "version": "3.8.10"
  }
 },
 "nbformat": 4,
 "nbformat_minor": 2
}
