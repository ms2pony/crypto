{
 "cells": [
  {
   "cell_type": "markdown",
   "metadata": {},
   "source": [
    "## sm2广义梅森素数乘法约减\n",
    "相关代码如下\n",
    "### 几种大数的表示形式\n",
    "对于$p=0xfffffffeffffffffffffffffffffffffffffffff00000000ffffffffffffffff\\\\=2^{256}-2^{224}-2^{96}+2^{64}-1$\n",
    "\n",
    "本内容定义2个表示形式，\n",
    "\n",
    "1. 本文的大数形式定义如下：\n",
    "\n",
    "    `[256, 224, 96, 64, 1]`, 等价$p=2^{256}-2^{224}-2^{96}+2^{64}-1$，从高位到低位\n",
    "    \n",
    "2. 向量形式：\n",
    "    以$2^{26}$为一个单位划分，即$2^{26}$进制\n",
    "\n",
    "    `[22, 16, 0, 0, 0, 0, 18, 13, 0, 1]`，从高位到低位, 等价$p=2^{256}-2^{224}-2^{96}+2^{64}-1$\n",
    "    \n",
    "### 两种形式之间的转化\n",
    "定义函数`bn2vec`，用于两种形式之间的转化\n",
    "\n",
    "### 约减函数\n",
    "定义伪梅森素数约减函数，输入数的形式为向量形式"
   ]
  },
  {
   "cell_type": "code",
   "execution_count": 1,
   "metadata": {},
   "outputs": [
    {
     "data": {
      "text/latex": [
       "\\begin{aligned}&z_{10} 2^{260} \\equiv z_{10}(2^{228}+2^{100}-2^{68}+2^{4}) \\bmod p\\\\&z_{11} 2^{286} \\equiv z_{11}(2^{254}+2^{126}-2^{94}+2^{30}) \\bmod p\\\\&z_{12} 2^{312} \\equiv z_{12}(2^{248}+2^{152}-2^{88}+2^{56}+2^{24}) \\bmod p\\\\&z_{13} 2^{338} \\equiv z_{13}(2^{242}+2^{178}+2^{50}+2^{18}) \\bmod p\\\\&z_{14} 2^{364} \\equiv z_{14}(2^{236}+2^{204}+2^{108}+2^{44}+2^{12}) \\bmod p\\\\&z_{15} 2^{390} \\equiv z_{15}(2^{231}+2^{134}+2^{102}+2^{38}+2^{6}) \\bmod p\\\\&z_{16} 2^{416} \\equiv z_{16}(2^{257}+2^{160}+2^{128}+2^{64}+2^{32}) \\bmod p\\\\&z_{17} 2^{442} \\equiv z_{17}(2^{251}+2^{186}+2^{154}+2^{123}-2^{90}+2^{58}+2^{27}) \\bmod p\\\\&z_{18} 2^{468} \\equiv z_{18}(2^{245}+2^{212}+2^{180}+2^{149}+2^{116}-2^{84}+2^{53}+2^{21}) \\bmod p\\\\&z_{19} 2^{494} \\equiv z_{19}(3\\cdot 2^{238}+2^{206}+2^{175}+2^{142}+2^{110}+2^{47}+2^{15}) \\bmod p\\end{aligned}"
      ],
      "text/plain": [
       "<IPython.core.display.Latex object>"
      ]
     },
     "execution_count": 1,
     "metadata": {},
     "output_type": "execute_result"
    }
   ],
   "source": [
    "from mersen_op import *\n",
    "\n",
    "def bn2mersenTest():\n",
    "    p_sm2=0xfffffffeffffffffffffffffffffffffffffffff00000000ffffffffffffffff\n",
    "    bnSets=[2^260,2^286,2^312,2^338,2^364,2^390,2^416,2^442,2^468,2^494]\n",
    "\n",
    "    i=10\n",
    "    outputLatex=\"\"\n",
    "    for bn in bnSets:\n",
    "\n",
    "        bnRec_str=bin(mersenReduction(bn,p_sm2))[2:]\n",
    "        # outputLatex+=r\"z_{{{}}} 2^{{{}}} \\equiv z_{{{}}}({}) \\bmod p \".format(i,len(bnRec_str)-1,i,bnRec_str)\n",
    "        # print(convert(bnRec_str))\n",
    "        outputLatex+=r\"&z_{{{}}} 2^{{{}}} \\equiv z_{{{}}}({}) \\bmod p\\\\\".format(i,len(bin(bn))-3,i,bn2mersen(bnRec_str))\n",
    "\n",
    "        \n",
    "        i+=1\n",
    "    outputLatex=r\"\\begin{aligned}\"+outputLatex[:-2]+r\"\\end{aligned}\"\n",
    "    # outputLatex=r\"\\begin{flalign}\"+outputLatex[:-2]+r\"\\end{flalign}\"\n",
    "    # 根据论文中的表示再做修改\n",
    "    outputLatexSp=outputLatex.replace(\"2^{240}-2^{238}\",r\"3\\cdot 2^{238}\")\n",
    "    from IPython.display import Latex\n",
    "\n",
    "    return Latex(outputLatexSp)\n",
    "\n",
    "outputmd=bn2mersenTest();outputmd"
   ]
  },
  {
   "cell_type": "code",
   "execution_count": 16,
   "metadata": {},
   "outputs": [
    {
     "name": "stdout",
     "output_type": "stream",
     "text": [
      "z10\n",
      "6\n"
     ]
    }
   ],
   "source": [
    "# 10个分量的向量表示10个limbs的大数, 20个分量则是20个limbs的大数\n",
    "# 每一个分量的权重分别为：\n",
    "# [2^234, 2^208, 2^182, 2^156, 2^130, 2^104, 2^78, 2^52, 2^26, 1]\n",
    "p_sm2=vector([22, 16, 0, 0, 0, 0, 18, 12, 0, 1])\n",
    "\n",
    "z10_bn=[260]\n",
    "z10_vec=bn2vec(z10_bn)\n",
    "\n",
    "a=var('z10');print(a)\n",
    "dic1={\"z10\":z10*3};\n",
    "z10=2;print(dic1[\"z10\"](z10))"
   ]
  },
  {
   "cell_type": "code",
   "execution_count": 3,
   "metadata": {},
   "outputs": [
    {
     "name": "stdout",
     "output_type": "stream",
     "text": [
      "(1, 2, 3)\n"
     ]
    }
   ],
   "source": [
    "v2=vector([1,2,3])\n",
    "matrix2= v2.column()*v2.row();matrix2\n",
    "\n",
    "print(matrix2[0])"
   ]
  },
  {
   "cell_type": "code",
   "execution_count": 32,
   "metadata": {},
   "outputs": [
    {
     "name": "stdout",
     "output_type": "stream",
     "text": [
      "{'z10': [228, 100, 68, 4], 'z11': [254, 126, 94, 30], 'z12': [248, 152, 88, 56, 24], 'z13': [242, 178, 50, 18], 'z14': [236, 204, 108, 44, 12], 'z15': [231, 134, 102, 38, 6], 'z16': [257, 160, 128, 64, 32], 'z17': [251, 186, 154, 123, 90, 58, 27], 'z18': [245, 212, 180, 149, 116, 84, 53, 21], 'z19': [240, 238, 206, 175, 142, 110, 47, 15]}\n"
     ]
    }
   ],
   "source": [
    "# from mersen_op import *\n",
    "import re\n",
    "p_sm2=0xfffffffeffffffffffffffffffffffffffffffff00000000ffffffffffffffff\n",
    "bnSets=[2^260,2^286,2^312,2^338,2^364,2^390,2^416,2^442,2^468,2^494]\n",
    "\n",
    "# outputLatex=\"\"\n",
    "mersendic={}\n",
    "i=10\n",
    "for bn in bnSets:\n",
    "    bnRec_str=bin(mersenReduction(bn,p_sm2))[2:]\n",
    "    mersenStr=bn2mersen(bnRec_str)\n",
    "    res=re.findall(r'2\\^\\{(.*?)\\}',mersenStr)\n",
    "    mersendic[\"z{}\".format(i)]=[]\n",
    "    for e in res:\n",
    "        mersendic[\"z{}\".format(i)].append(int(e))\n",
    "\n",
    "    i+=1\n",
    "print(mersendic)\n"
   ]
  },
  {
   "cell_type": "code",
   "execution_count": null,
   "metadata": {},
   "outputs": [],
   "source": []
  }
 ],
 "metadata": {
  "kernelspec": {
   "display_name": "SageMath 9.0",
   "language": "python",
   "name": "undefined.--python#sage.repl.ipython_kernel"
  },
  "language_info": {
   "codemirror_mode": {
    "name": "ipython",
    "version": 3
   },
   "file_extension": ".py",
   "mimetype": "text/x-python",
   "name": "python",
   "nbconvert_exporter": "python",
   "pygments_lexer": "ipython3",
   "version": "3.8.10"
  }
 },
 "nbformat": 4,
 "nbformat_minor": 2
}
