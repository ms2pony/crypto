{
 "cells": [
  {
   "cell_type": "markdown",
   "id": "0e9f61a5",
   "metadata": {},
   "source": [
    "## 测试openssl中的BN_bin2bn函数"
   ]
  },
  {
   "cell_type": "code",
   "execution_count": 1,
   "id": "474af2c1",
   "metadata": {},
   "outputs": [],
   "source": [
    "p = 0xfffffffeffffffffffffffffffffffffffffffff00000000ffffffffffffffff"
   ]
  },
  {
   "cell_type": "code",
   "execution_count": 2,
   "id": "54768b98",
   "metadata": {},
   "outputs": [],
   "source": [
    "R_inverse=inverse_mod(2^256,p)"
   ]
  },
  {
   "cell_type": "code",
   "execution_count": 3,
   "id": "2904be31",
   "metadata": {},
   "outputs": [
    {
     "data": {
      "text/plain": [
       "'0xfffffffb00000005fffffffc00000002fffffffd00000006fffffff900000004'"
      ]
     },
     "execution_count": 3,
     "metadata": {},
     "output_type": "execute_result"
    }
   ],
   "source": [
    "hex(R_inverse)"
   ]
  },
  {
   "cell_type": "code",
   "execution_count": 4,
   "id": "f98a71c4",
   "metadata": {},
   "outputs": [
    {
     "data": {
      "text/plain": [
       "1"
      ]
     },
     "execution_count": 4,
     "metadata": {},
     "output_type": "execute_result"
    }
   ],
   "source": [
    "R_inverse*2^256%p"
   ]
  },
  {
   "cell_type": "code",
   "execution_count": 5,
   "id": "f65d01d5",
   "metadata": {},
   "outputs": [],
   "source": [
    "E=[0xd3b4ed,0x15733ec,0x102a2b9,0x15d8c44,0xa582de,0x659d21,0x8ab5a,0x8374d3,0x15c85f2,0x18dd48]"
   ]
  },
  {
   "cell_type": "code",
   "execution_count": 6,
   "id": "2913c2d3",
   "metadata": {},
   "outputs": [],
   "source": [
    "def array2BigNum(array):\n",
    "\ti=0\n",
    "\tres=0\n",
    "\tfor e in array:\n",
    "\t\tres+=e*2**(26*i)\n",
    "\t\ti+=1\n",
    "\t\t# print(\"i\",i)\n",
    "\treturn res"
   ]
  },
  {
   "cell_type": "code",
   "execution_count": 7,
   "id": "2cda8905",
   "metadata": {},
   "outputs": [
    {
     "data": {
      "text/plain": [
       "'0x6375215c85f220dd34c08ab5a1967484a582de576311102a2b955ccfb0d3b4ed'"
      ]
     },
     "execution_count": 7,
     "metadata": {},
     "output_type": "execute_result"
    }
   ],
   "source": [
    "hex(array2BigNum(E))"
   ]
  },
  {
   "cell_type": "code",
   "execution_count": 13,
   "id": "f77482f9",
   "metadata": {},
   "outputs": [
    {
     "name": "stdout",
     "output_type": "stream",
     "text": [
      "0x3d99825ecdcf8e07a051cba99b7c775e8e40f19b7f6dfdbe43825db34f57e4d4\n"
     ]
    }
   ],
   "source": [
    "A=0x0F9819116B7D34A3CE90F3004510707D32611F6C3BC9405A47264C2A70FB242F\n",
    "C=0x314DE16CCD597AF65EDDAB7D61B71F0DCE63474866740E3621A598C9EDB19767\n",
    "print(hex(A*C%p))"
   ]
  },
  {
   "cell_type": "code",
   "execution_count": 11,
   "id": "d0096915",
   "metadata": {},
   "outputs": [
    {
     "data": {
      "text/plain": [
       "'0xa233946cc254ae12ac034771a1c6a131d1a9794b3b055e69ee7dd16bc525d9cc'"
      ]
     },
     "execution_count": 11,
     "metadata": {},
     "output_type": "execute_result"
    }
   ],
   "source": [
    "hex(0x0AA2339462C254AE12AC034771A1C6A131D1A979413B055E73EE7DD16BC525D9C2%p)"
   ]
  },
  {
   "cell_type": "code",
   "execution_count": 10,
   "id": "be70d3f6",
   "metadata": {},
   "outputs": [
    {
     "data": {
      "text/plain": [
       "True"
      ]
     },
     "execution_count": 10,
     "metadata": {},
     "output_type": "execute_result"
    }
   ],
   "source": [
    "0x75765904fa45186458ebe89d65eaab4bb783e889e0c326504497ee3eb6818f94==0x75765904fa45186458ebe89d65eaab4bb783e889e0c326504497ee3eb6818f94"
   ]
  }
 ],
 "metadata": {
  "kernelspec": {
   "display_name": "SageMath 9.6",
   "language": "sage",
   "name": "sagemath"
  },
  "language_info": {
   "codemirror_mode": {
    "name": "ipython",
    "version": 3
   },
   "file_extension": ".py",
   "mimetype": "text/x-python",
   "name": "python",
   "nbconvert_exporter": "python",
   "pygments_lexer": "ipython3",
   "version": "3.10.5"
  }
 },
 "nbformat": 4,
 "nbformat_minor": 5
}
