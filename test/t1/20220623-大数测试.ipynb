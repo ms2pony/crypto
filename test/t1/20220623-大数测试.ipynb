{
 "cells": [
  {
   "cell_type": "markdown",
   "id": "0e9f61a5",
   "metadata": {},
   "source": [
    "## 测试openssl中的BN_bin2bn函数"
   ]
  },
  {
   "cell_type": "code",
   "execution_count": 8,
   "id": "474af2c1",
   "metadata": {},
   "outputs": [],
   "source": [
    "p=0xffffffff00000001000000000000000000000000ffffffffffffffffffffffff"
   ]
  },
  {
   "cell_type": "code",
   "execution_count": 10,
   "id": "54768b98",
   "metadata": {},
   "outputs": [],
   "source": [
    "R_inverse=inverse_mod(2^256,p)"
   ]
  },
  {
   "cell_type": "code",
   "execution_count": 12,
   "id": "2904be31",
   "metadata": {},
   "outputs": [
    {
     "data": {
      "text/plain": [
       "'0xfffffffe00000003fffffffd0000000200000001fffffffe0000000300000000'"
      ]
     },
     "execution_count": 12,
     "metadata": {},
     "output_type": "execute_result"
    }
   ],
   "source": [
    "hex(R_inverse)"
   ]
  },
  {
   "cell_type": "code",
   "execution_count": 13,
   "id": "f98a71c4",
   "metadata": {},
   "outputs": [
    {
     "data": {
      "text/plain": [
       "1"
      ]
     },
     "execution_count": 13,
     "metadata": {},
     "output_type": "execute_result"
    }
   ],
   "source": [
    "R_inverse*2^256%p"
   ]
  },
  {
   "cell_type": "code",
   "execution_count": null,
   "id": "f65d01d5",
   "metadata": {},
   "outputs": [],
   "source": []
  }
 ],
 "metadata": {
  "kernelspec": {
   "display_name": "SageMath 9.6",
   "language": "sage",
   "name": "sagemath"
  },
  "language_info": {
   "codemirror_mode": {
    "name": "ipython",
    "version": 3
   },
   "file_extension": ".py",
   "mimetype": "text/x-python",
   "name": "python",
   "nbconvert_exporter": "python",
   "pygments_lexer": "ipython3",
   "version": "3.10.5"
  }
 },
 "nbformat": 4,
 "nbformat_minor": 5
}
